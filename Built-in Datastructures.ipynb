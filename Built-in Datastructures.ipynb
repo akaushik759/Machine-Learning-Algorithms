{
 "cells": [
  {
   "cell_type": "code",
   "execution_count": 4,
   "metadata": {},
   "outputs": [],
   "source": [
    "from turtle import *\n",
    "color('cyan', 'magenta')\n",
    "begin_fill()\n",
    "for i in range(9):\n",
    "    fd(200)\n",
    "    lt(160)\n",
    "end_fill()\n",
    "done()"
   ]
  },
  {
   "cell_type": "code",
   "execution_count": 13,
   "metadata": {},
   "outputs": [
    {
     "name": "stdout",
     "output_type": "stream",
     "text": [
      "3 <class 'int'>\n",
      "['apple'] <class 'list'>\n",
      "orange <class 'list'>\n",
      "['apple', 'orange', 4] <class 'list'>\n",
      "[2, 3, 4] <class 'list'>\n",
      "apple <class 'str'>\n",
      "[['hello', 'world'], [5, 4]] <class 'list'> 4\n"
     ]
    }
   ],
   "source": [
    "a=3\n",
    "b=['apple']\n",
    "c=['apple','orange']\n",
    "d=['apple','orange',4]\n",
    "e=[2,3,4]\n",
    "f='apple'\n",
    "g=[['hello','world'],[5,4]]\n",
    "\n",
    "print(a,type(a))\n",
    "print(b,type(b))\n",
    "print(c[1],type(c))\n",
    "print(d,type(d))\n",
    "print(e,type(e))\n",
    "print(f,type(f))\n",
    "print(g,type(g),g[1][1])"
   ]
  },
  {
   "cell_type": "code",
   "execution_count": 15,
   "metadata": {},
   "outputs": [
    {
     "name": "stdout",
     "output_type": "stream",
     "text": [
      "100\n"
     ]
    }
   ],
   "source": [
    "g[1][0]=100\n",
    "print(g[1][0])"
   ]
  },
  {
   "cell_type": "code",
   "execution_count": 20,
   "metadata": {},
   "outputs": [
    {
     "name": "stdout",
     "output_type": "stream",
     "text": [
      "[1, 2, 3, 4, 5, 6, 7, 8, 9, 10]\n"
     ]
    }
   ],
   "source": [
    "n=list(range(1,11))\n",
    "print(n)"
   ]
  },
  {
   "cell_type": "code",
   "execution_count": 30,
   "metadata": {},
   "outputs": [
    {
     "name": "stdout",
     "output_type": "stream",
     "text": [
      "[1, 2, 3, 4, 5, 6, 7, 8, 9, 10]\n",
      "[6, 7, 8, 9, 10]\n",
      "[1, 3, 5, 7, 9]\n",
      "[4, 6]\n",
      "[1, 2, 3, 5, 6, 7, 8]\n"
     ]
    }
   ],
   "source": [
    "print(n[0:10])\n",
    "print(n[5:])\n",
    "print(n[::2])\n",
    "print(n[3:7:2])\n",
    "print(n[0:3]+n[4:8])"
   ]
  },
  {
   "cell_type": "code",
   "execution_count": 50,
   "metadata": {},
   "outputs": [
    {
     "name": "stdout",
     "output_type": "stream",
     "text": [
      "[1, 2, 3, 4, 5, 6, 7, 8, 9, 10]\n",
      "[1, 2, 3, 8, 9, 10]\n",
      "True\n",
      "False\n",
      "6\n",
      "[1, 2, 3, 8, 9, 10, 101]\n",
      "101\n",
      "[1, 2, 3, 8, 9, 10]\n",
      "[1, 2, 3, 55, 8, 9, 10]\n",
      "8\n"
     ]
    }
   ],
   "source": [
    "filtered=n[0:3]+n[7:10]\n",
    "print(n)\n",
    "print(filtered)\n",
    "print(7 in n)\n",
    "print(7 in filtered)\n",
    "\n",
    "print(len(filtered))\n",
    "\n",
    "filtered.append(101)\n",
    "print(filtered)\n",
    "print(filtered.pop())\n",
    "print(filtered)\n",
    "\n",
    "filtered.insert(3,55)\n",
    "print(filtered)\n",
    "\n",
    "print(filtered.pop(4))"
   ]
  },
  {
   "cell_type": "code",
   "execution_count": 48,
   "metadata": {
    "scrolled": true
   },
   "outputs": [
    {
     "name": "stdout",
     "output_type": "stream",
     "text": [
      "Help on class list in module builtins:\n",
      "\n",
      "class list(object)\n",
      " |  list(iterable=(), /)\n",
      " |  \n",
      " |  Built-in mutable sequence.\n",
      " |  \n",
      " |  If no argument is given, the constructor creates a new empty list.\n",
      " |  The argument must be an iterable if specified.\n",
      " |  \n",
      " |  Methods defined here:\n",
      " |  \n",
      " |  __add__(self, value, /)\n",
      " |      Return self+value.\n",
      " |  \n",
      " |  __contains__(self, key, /)\n",
      " |      Return key in self.\n",
      " |  \n",
      " |  __delitem__(self, key, /)\n",
      " |      Delete self[key].\n",
      " |  \n",
      " |  __eq__(self, value, /)\n",
      " |      Return self==value.\n",
      " |  \n",
      " |  __ge__(self, value, /)\n",
      " |      Return self>=value.\n",
      " |  \n",
      " |  __getattribute__(self, name, /)\n",
      " |      Return getattr(self, name).\n",
      " |  \n",
      " |  __getitem__(...)\n",
      " |      x.__getitem__(y) <==> x[y]\n",
      " |  \n",
      " |  __gt__(self, value, /)\n",
      " |      Return self>value.\n",
      " |  \n",
      " |  __iadd__(self, value, /)\n",
      " |      Implement self+=value.\n",
      " |  \n",
      " |  __imul__(self, value, /)\n",
      " |      Implement self*=value.\n",
      " |  \n",
      " |  __init__(self, /, *args, **kwargs)\n",
      " |      Initialize self.  See help(type(self)) for accurate signature.\n",
      " |  \n",
      " |  __iter__(self, /)\n",
      " |      Implement iter(self).\n",
      " |  \n",
      " |  __le__(self, value, /)\n",
      " |      Return self<=value.\n",
      " |  \n",
      " |  __len__(self, /)\n",
      " |      Return len(self).\n",
      " |  \n",
      " |  __lt__(self, value, /)\n",
      " |      Return self<value.\n",
      " |  \n",
      " |  __mul__(self, value, /)\n",
      " |      Return self*value.\n",
      " |  \n",
      " |  __ne__(self, value, /)\n",
      " |      Return self!=value.\n",
      " |  \n",
      " |  __repr__(self, /)\n",
      " |      Return repr(self).\n",
      " |  \n",
      " |  __reversed__(self, /)\n",
      " |      Return a reverse iterator over the list.\n",
      " |  \n",
      " |  __rmul__(self, value, /)\n",
      " |      Return value*self.\n",
      " |  \n",
      " |  __setitem__(self, key, value, /)\n",
      " |      Set self[key] to value.\n",
      " |  \n",
      " |  __sizeof__(self, /)\n",
      " |      Return the size of the list in memory, in bytes.\n",
      " |  \n",
      " |  append(self, object, /)\n",
      " |      Append object to the end of the list.\n",
      " |  \n",
      " |  clear(self, /)\n",
      " |      Remove all items from list.\n",
      " |  \n",
      " |  copy(self, /)\n",
      " |      Return a shallow copy of the list.\n",
      " |  \n",
      " |  count(self, value, /)\n",
      " |      Return number of occurrences of value.\n",
      " |  \n",
      " |  extend(self, iterable, /)\n",
      " |      Extend list by appending elements from the iterable.\n",
      " |  \n",
      " |  index(self, value, start=0, stop=9223372036854775807, /)\n",
      " |      Return first index of value.\n",
      " |      \n",
      " |      Raises ValueError if the value is not present.\n",
      " |  \n",
      " |  insert(self, index, object, /)\n",
      " |      Insert object before index.\n",
      " |  \n",
      " |  pop(self, index=-1, /)\n",
      " |      Remove and return item at index (default last).\n",
      " |      \n",
      " |      Raises IndexError if list is empty or index is out of range.\n",
      " |  \n",
      " |  remove(self, value, /)\n",
      " |      Remove first occurrence of value.\n",
      " |      \n",
      " |      Raises ValueError if the value is not present.\n",
      " |  \n",
      " |  reverse(self, /)\n",
      " |      Reverse *IN PLACE*.\n",
      " |  \n",
      " |  sort(self, /, *, key=None, reverse=False)\n",
      " |      Stable sort *IN PLACE*.\n",
      " |  \n",
      " |  ----------------------------------------------------------------------\n",
      " |  Static methods defined here:\n",
      " |  \n",
      " |  __new__(*args, **kwargs) from builtins.type\n",
      " |      Create and return a new object.  See help(type) for accurate signature.\n",
      " |  \n",
      " |  ----------------------------------------------------------------------\n",
      " |  Data and other attributes defined here:\n",
      " |  \n",
      " |  __hash__ = None\n",
      "\n"
     ]
    }
   ],
   "source": [
    "help(list)"
   ]
  },
  {
   "cell_type": "code",
   "execution_count": 53,
   "metadata": {},
   "outputs": [
    {
     "name": "stdout",
     "output_type": "stream",
     "text": [
      "[1, 2, 3, 9, 10, 55]\n",
      "[55, 10, 9, 3, 2, 1]\n"
     ]
    }
   ],
   "source": [
    "filtered.sort()\n",
    "print(filtered)\n",
    "filtered.reverse()\n",
    "print(filtered)"
   ]
  },
  {
   "cell_type": "code",
   "execution_count": 61,
   "metadata": {},
   "outputs": [
    {
     "name": "stdout",
     "output_type": "stream",
     "text": [
      "[1, 2, 3, 4] \n",
      " (1, 2, 3, 4)\n",
      "1 \n",
      " 1\n",
      "True \n",
      " True\n"
     ]
    },
    {
     "ename": "TypeError",
     "evalue": "'tuple' object does not support item assignment",
     "output_type": "error",
     "traceback": [
      "\u001b[0;31m---------------------------------------------------------------------------\u001b[0m",
      "\u001b[0;31mTypeError\u001b[0m                                 Traceback (most recent call last)",
      "\u001b[0;32m<ipython-input-61-caa7c6efd49c>\u001b[0m in \u001b[0;36m<module>\u001b[0;34m\u001b[0m\n\u001b[1;32m      8\u001b[0m \u001b[0;34m\u001b[0m\u001b[0m\n\u001b[1;32m      9\u001b[0m \u001b[0ml\u001b[0m\u001b[0;34m[\u001b[0m\u001b[0;36m0\u001b[0m\u001b[0;34m]\u001b[0m\u001b[0;34m=\u001b[0m\u001b[0;36m100\u001b[0m\u001b[0;34m\u001b[0m\u001b[0;34m\u001b[0m\u001b[0m\n\u001b[0;32m---> 10\u001b[0;31m \u001b[0mt\u001b[0m\u001b[0;34m[\u001b[0m\u001b[0;36m0\u001b[0m\u001b[0;34m]\u001b[0m\u001b[0;34m=\u001b[0m\u001b[0;36m100\u001b[0m\u001b[0;34m\u001b[0m\u001b[0;34m\u001b[0m\u001b[0m\n\u001b[0m\u001b[1;32m     11\u001b[0m \u001b[0;34m\u001b[0m\u001b[0m\n\u001b[1;32m     12\u001b[0m \u001b[0mprint\u001b[0m\u001b[0;34m(\u001b[0m\u001b[0ml\u001b[0m\u001b[0;34m,\u001b[0m\u001b[0;34m'\\n'\u001b[0m\u001b[0;34m,\u001b[0m\u001b[0mt\u001b[0m\u001b[0;34m)\u001b[0m\u001b[0;34m\u001b[0m\u001b[0;34m\u001b[0m\u001b[0m\n",
      "\u001b[0;31mTypeError\u001b[0m: 'tuple' object does not support item assignment"
     ]
    }
   ],
   "source": [
    "l=[1,2,3,4]\n",
    "t=(1,2,3,4)\n",
    "\n",
    "print(l,'\\n',t)\n",
    "print(l[0],'\\n',t[0])\n",
    "\n",
    "print(3 in l,'\\n',3 in t)\n",
    "\n",
    "l[0]=100\n",
    "t[0]=100\n",
    "\n",
    "print(l,'\\n',t)"
   ]
  },
  {
   "cell_type": "code",
   "execution_count": null,
   "metadata": {},
   "outputs": [],
   "source": []
  },
  {
   "cell_type": "code",
   "execution_count": null,
   "metadata": {},
   "outputs": [],
   "source": []
  },
  {
   "cell_type": "code",
   "execution_count": null,
   "metadata": {},
   "outputs": [],
   "source": []
  },
  {
   "cell_type": "code",
   "execution_count": null,
   "metadata": {},
   "outputs": [],
   "source": []
  },
  {
   "cell_type": "code",
   "execution_count": 35,
   "metadata": {
    "tags": [
     "Q1"
    ]
   },
   "outputs": [
    {
     "name": "stdout",
     "output_type": "stream",
     "text": [
      "My city is Mexico. \n",
      " Raghu is my friend's brother. \n",
      " My favorite programming language is \"JavaScript\". \n",
      " \"JavaScript is a widely used high-level, general-purpose, interpreted, dynamic \n",
      "programming language. It's design philosophy emphasizes code readability, and it's \n",
      "syntax allows programmers to express concepts in fewer lines of code than possible in \n",
      "languages such as \"C++\" or \"Java\".\n"
     ]
    }
   ],
   "source": [
    "a='My city is Mexico.'\n",
    "b=\"Raghu is my friend's brother.\"\n",
    "c='My favorite programming language is \"JavaScript\".'\n",
    "d=\"\"\"\"JavaScript is a widely used high-level, general-purpose, interpreted, dynamic \n",
    "programming language. It's design philosophy emphasizes code readability, and it's \n",
    "syntax allows programmers to express concepts in fewer lines of code than possible in \n",
    "languages such as \"C++\" or \"Java\".\"\"\"\n",
    "print(a,'\\n',b,'\\n',c,'\\n',d)"
   ]
  },
  {
   "cell_type": "code",
   "execution_count": 54,
   "metadata": {
    "tags": [
     "Q2"
    ]
   },
   "outputs": [
    {
     "name": "stdout",
     "output_type": "stream",
     "text": [
      "Enter a string Malayalam\n",
      "Palindrome\n"
     ]
    }
   ],
   "source": [
    "s=input(\"Enter a string \")\n",
    "bk=s[::-1]\n",
    "if s.lower()==bk.lower():\n",
    "    print(\"Palindrome\")\n",
    "else:\n",
    "    print(\"Not Palindrome\")"
   ]
  },
  {
   "cell_type": "code",
   "execution_count": 65,
   "metadata": {
    "tags": [
     "Q3"
    ]
   },
   "outputs": [
    {
     "name": "stdout",
     "output_type": "stream",
     "text": [
      "Enter the first String HeLLo\n",
      "Enter the second String WorLD\n",
      "HLLWLD\n",
      "HeLLoWorLD\n"
     ]
    }
   ],
   "source": [
    "s1=input(\"Enter the first String \")\n",
    "s2=input(\"Enter the second String \")\n",
    "ns=''\n",
    "for ch in s1:\n",
    "    if(ch.isupper()):\n",
    "        ns=ns+ch\n",
    "for ch in s2:\n",
    "    if(ch.isupper()):\n",
    "        ns=ns+ch\n",
    "print(ns)\n",
    "print(s1+s2)"
   ]
  },
  {
   "cell_type": "code",
   "execution_count": 67,
   "metadata": {
    "tags": [
     "Q6"
    ]
   },
   "outputs": [
    {
     "name": "stdout",
     "output_type": "stream",
     "text": [
      "Enter the value of n 5\n",
      "0\n",
      "1 ,\n",
      "1 ,\n",
      "2 ,\n",
      "3 ,\n",
      "5 ,\n",
      "[0, 1, 1, 2, 3, 5]\n"
     ]
    }
   ],
   "source": [
    "n=int(input(\"Enter the value of n \"))\n",
    "a=0\n",
    "b=1\n",
    "c=0\n",
    "li=[0]\n",
    "print(0)\n",
    "for x in range(1,n+1):\n",
    "    c=a+b\n",
    "    b=a\n",
    "    a=c\n",
    "    li.append(c)\n",
    "    print(c,\",\")\n",
    "print(li)"
   ]
  },
  {
   "cell_type": "code",
   "execution_count": 73,
   "metadata": {
    "tags": [
     "Q7"
    ]
   },
   "outputs": [
    {
     "name": "stdout",
     "output_type": "stream",
     "text": [
      "Enter the name of the furniture you want to buy desk\n",
      "Item found in store, enter the quantity to be ordered5\n",
      "The Bill Amount is :  1000\n"
     ]
    }
   ],
   "source": [
    "fur=['chair','table','bench','desk']\n",
    "cost=[400,1000,3000,200]\n",
    "\n",
    "se=input(\"Enter the name of the furniture you want to buy \")\n",
    "index=fur.index(se.lower())\n",
    "if index:\n",
    "    q=int(input(\"Item found in store, enter the quantity to be ordered \"))\n",
    "    if q>0:\n",
    "        print(\"The Bill Amount is : \",cost[index]*q)\n",
    "    else:\n",
    "        print(\"Please order more than 0 quantity\")\n",
    "else:\n",
    "    print(\"Item not found in store\")"
   ]
  },
  {
   "cell_type": "code",
   "execution_count": 79,
   "metadata": {
    "tags": [
     "Q8"
    ]
   },
   "outputs": [
    {
     "name": "stdout",
     "output_type": "stream",
     "text": [
      "Number of courses opted by John are : \n",
      " ('Programming', 'RDBMS', 'Web Technology', 'Software Engg.')\n",
      "All the courses opted by John are : \n",
      " ('Programming', 'RDBMS', 'Web Technology', 'Software Engg.', 'Business Intelligence', 'Big Data Analytics')\n",
      "('Programming', 'RDBMS', 'Web Technology', 'Software Engg.', 'Business Intelligence', 'Big Data Analytics')\n"
     ]
    }
   ],
   "source": [
    "#For John\n",
    "courses = (\"Programming\", \"RDBMS\", \"Web Technology\", \"Software Engg.\")\n",
    "electives = (\"Business Intelligence\", \"Big Data Analytics\")\n",
    "print(\"Number of courses opted by John are : \\n\",courses)\n",
    "print(\"All the courses opted by John are : \\n\",courses+electives)\n",
    "courses=courses+electives\n",
    "print(courses)"
   ]
  },
  {
   "cell_type": "code",
   "execution_count": 62,
   "metadata": {
    "tags": [
     "Q9"
    ]
   },
   "outputs": [
    {
     "name": "stdout",
     "output_type": "stream",
     "text": [
      "John\n",
      "Jill\n",
      "Joe\n",
      "Jack\n",
      "['John', 'Jill', 'Joe', 'Jack']\n",
      "{1001: 'John', 1004: 'Jill', 1003: 'Mary'}\n",
      "Present\n",
      "['Jack', 'Jill', 'Joe', 'John']\n"
     ]
    }
   ],
   "source": [
    "customer_details={1001 : \"John\", 1004 : \"Jill\", 1005: \"Joe\", 1003 : \"Jack\"}\n",
    "arr=[]\n",
    "for cid in customer_details:\n",
    "    print(customer_details[cid])\n",
    "    arr.append(customer_details[cid])\n",
    "    \n",
    "print(arr)\n",
    "len(customer_details)\n",
    "del customer_details[1005]\n",
    "customer_details[1003]=\"Mary\"\n",
    "print(customer_details)\n",
    "\n",
    "if 1001 not in customer_details:\n",
    "    print(\"Not present\")\n",
    "else:\n",
    "    print(\"Present\")\n",
    "    \n",
    "arr.sort()\n",
    "print(arr)"
   ]
  },
  {
   "cell_type": "code",
   "execution_count": 9,
   "metadata": {},
   "outputs": [
    {
     "name": "stdout",
     "output_type": "stream",
     "text": [
      "<class 'set'>\n",
      "{0, 1, 2, 3, 4} <class 'set'>\n"
     ]
    }
   ],
   "source": [
    "s=set()\n",
    "print(type(s))\n",
    "s={2,0,4,1,3}\n",
    "t={44,55,2,34}\n",
    "print(s,type(s))\n"
   ]
  },
  {
   "cell_type": "code",
   "execution_count": 8,
   "metadata": {},
   "outputs": [
    {
     "name": "stdout",
     "output_type": "stream",
     "text": [
      "{1, 2, 3, 4, 34, 44, 55}\n",
      "{2}\n"
     ]
    }
   ],
   "source": [
    "print(s.union(t))\n",
    "print(s.intersection(t))"
   ]
  },
  {
   "cell_type": "code",
   "execution_count": 12,
   "metadata": {},
   "outputs": [
    {
     "name": "stdout",
     "output_type": "stream",
     "text": [
      "{0, 1, 3, 4}\n",
      "False\n"
     ]
    }
   ],
   "source": [
    "print(s.difference(t))\n",
    "print(s.isdisjoint(t))"
   ]
  },
  {
   "cell_type": "code",
   "execution_count": 16,
   "metadata": {},
   "outputs": [
    {
     "name": "stdout",
     "output_type": "stream",
     "text": [
      "False\n"
     ]
    }
   ],
   "source": [
    "print({10,30,50}.issubset({1,3,5,7,9}))"
   ]
  },
  {
   "cell_type": "code",
   "execution_count": 33,
   "metadata": {},
   "outputs": [
    {
     "name": "stdout",
     "output_type": "stream",
     "text": [
      "<class 'dict'>\n",
      "odisha\n",
      "wb\n",
      "bihar\n"
     ]
    }
   ],
   "source": [
    "d={'odisha':'bbsr','wb':'kolkata','bihar':'patna'}\n",
    "print(type(d))\n",
    "for key in d:\n",
    "    print(key)"
   ]
  },
  {
   "cell_type": "code",
   "execution_count": 4,
   "metadata": {
    "tags": [
     "Q10"
    ]
   },
   "outputs": [
    {
     "name": "stdout",
     "output_type": "stream",
     "text": [
      "abhishek 70\n",
      "rahul 40\n",
      "raj 80\n",
      "ram 60\n",
      "amrit 67\n",
      "abhishek 70\n",
      "rahul 40\n",
      "raj 80\n",
      "ram 60\n",
      "amrit 67\n",
      "[('abhishek', 70), ('amrit', 67), ('rahul', 40), ('raj', 80), ('ram', 60)]\n",
      "[(80, 'raj'), (70, 'abhishek'), (67, 'amrit'), (60, 'ram'), (40, 'rahul')]\n",
      "80 ~ raj\n",
      "70 ~ abhishek\n",
      "abhishek\n",
      "amrit\n",
      "rahul\n",
      "raj\n",
      "ram\n",
      "126.8\n"
     ]
    }
   ],
   "source": [
    "data={'abhishek':70,'rahul':40,'raj':80,'ram':60}\n",
    "data['amrit']=67\n",
    "mark=[]\n",
    "name=[]\n",
    "tm=0\n",
    "\n",
    "for key in data:\n",
    "    print(key,data[key])\n",
    "    mark.append((data[key],key))\n",
    "    tm=tm+data[key]\n",
    "    \n",
    "for key in data:\n",
    "    print(key,data[key])\n",
    "    name.append((key,data[key]))\n",
    "    tm=tm+data[key]\n",
    "    \n",
    "avg=tm/5\n",
    "\n",
    "mark.sort(reverse=True)\n",
    "name.sort()\n",
    "print(name)\n",
    "print(mark)\n",
    "for x in mark[:2]:\n",
    "    print(x[0],\"~\",x[1])\n",
    "    \n",
    "for y in name:\n",
    "    print(y[0])\n",
    "\n",
    "print(avg)"
   ]
  },
  {
   "cell_type": "code",
   "execution_count": 36,
   "metadata": {},
   "outputs": [
    {
     "ename": "AttributeError",
     "evalue": "'dict' object has no attribute 'iterkeys'",
     "output_type": "error",
     "traceback": [
      "\u001b[0;31m---------------------------------------------------------------------------\u001b[0m",
      "\u001b[0;31mAttributeError\u001b[0m                            Traceback (most recent call last)",
      "\u001b[0;32m<ipython-input-36-45c0a40cf742>\u001b[0m in \u001b[0;36m<module>\u001b[0;34m\u001b[0m\n\u001b[0;32m----> 1\u001b[0;31m \u001b[0;32mfor\u001b[0m \u001b[0mkey\u001b[0m \u001b[0;32min\u001b[0m \u001b[0msorted\u001b[0m\u001b[0;34m(\u001b[0m\u001b[0mdata\u001b[0m\u001b[0;34m.\u001b[0m\u001b[0miterkeys\u001b[0m\u001b[0;34m(\u001b[0m\u001b[0;34m)\u001b[0m\u001b[0;34m)\u001b[0m\u001b[0;34m:\u001b[0m\u001b[0;34m\u001b[0m\u001b[0;34m\u001b[0m\u001b[0m\n\u001b[0m\u001b[1;32m      2\u001b[0m     \u001b[0mprint\u001b[0m\u001b[0;34m(\u001b[0m\u001b[0mkey\u001b[0m\u001b[0;34m)\u001b[0m\u001b[0;34m\u001b[0m\u001b[0;34m\u001b[0m\u001b[0m\n",
      "\u001b[0;31mAttributeError\u001b[0m: 'dict' object has no attribute 'iterkeys'"
     ]
    }
   ],
   "source": [
    "for key in sorted(data.iterkeys()):\n",
    "    print(key)"
   ]
  },
  {
   "cell_type": "code",
   "execution_count": 49,
   "metadata": {},
   "outputs": [
    {
     "name": "stdout",
     "output_type": "stream",
     "text": [
      "pl\n",
      "el\n",
      "3\n",
      "APPLE\n",
      "appleappleappleappleappleappleappleappleappleapple\n",
      "~!@#@!~~!@#@!~~!@#@!~~!@#@!~~!@#@!~~!@#@!~~!@#@!~~!@#@!~~!@#@!~~!@#@!~\n"
     ]
    }
   ],
   "source": [
    "#String\n",
    "s='apple'\n",
    "print(s[2:4])\n",
    "print(s[4:2:-1])\n",
    "print(s.find('le'))\n",
    "print(s.upper())\n",
    "print(s*10)\n",
    "print('~!@#@!~'*10)"
   ]
  },
  {
   "cell_type": "code",
   "execution_count": 88,
   "metadata": {
    "tags": [
     "Q12"
    ]
   },
   "outputs": [
    {
     "name": "stdout",
     "output_type": "stream",
     "text": [
      "4 2 2 2 4 6\n"
     ]
    }
   ],
   "source": [
    "java_course = {\"John\", \"Jack\", \"Jill\", \"Joe\"}\n",
    "php_course = {\"Jake\", \"John\", \"Eric\", \"Jill\"}\n",
    "\n",
    "java_only=java_course.difference(php_course)\n",
    "php_only=php_course.difference(java_course)\n",
    "both=java_course.intersection(php_course)\n",
    "either_not_both=java_only.union(php_only)\n",
    "either=java_course.union(php_course)\n",
    "\n",
    "print(len(php_course),\n",
    "len(java_only),\n",
    "len(php_only),\n",
    "len(both),\n",
    "len(either_not_both),\n",
    "len(either))"
   ]
  },
  {
   "cell_type": "code",
   "execution_count": null,
   "metadata": {},
   "outputs": [],
   "source": []
  }
 ],
 "metadata": {
  "celltoolbar": "Tags",
  "kernelspec": {
   "display_name": "Python 3",
   "language": "python",
   "name": "python3"
  },
  "language_info": {
   "codemirror_mode": {
    "name": "ipython",
    "version": 3
   },
   "file_extension": ".py",
   "mimetype": "text/x-python",
   "name": "python",
   "nbconvert_exporter": "python",
   "pygments_lexer": "ipython3",
   "version": "3.7.1"
  }
 },
 "nbformat": 4,
 "nbformat_minor": 2
}
