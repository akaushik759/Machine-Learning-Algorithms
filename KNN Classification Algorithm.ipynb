{
 "cells": [
  {
   "cell_type": "code",
   "execution_count": 62,
   "metadata": {
    "tags": [
     "Working",
     "Code"
    ]
   },
   "outputs": [
    {
     "name": "stdout",
     "output_type": "stream",
     "text": [
      "Note : The value of K entered should be less than  101\n",
      "The value of K = 10\n",
      "\n",
      "\n",
      "\n",
      "----------ACCURACY RESULTS OF THE MODEL----------\n",
      "\n",
      "Accuracy of the model is : \t\t 91.83673469387756 %\n",
      "Number of correct predictions made : \t 45\n",
      "Number of incorrect predictions made : \t 4\n"
     ]
    },
    {
     "data": {
      "image/png": "[encoded data removed]",
      "text/plain": [
       "<Figure size 432x288 with 1 Axes>"
      ]
     },
     "metadata": {
      "needs_background": "light"
     },
     "output_type": "display_data"
    }
   ],
   "source": [
    "import csv\n",
    "import matplotlib.pyplot as plt\n",
    "\n",
    "#Read the dataset from a csv file\n",
    "with open('iris.data','r') as csvfile:\n",
    "    lines=csv.reader(csvfile)\n",
    "    \n",
    "    dataset=[]\n",
    "    for row in lines:\n",
    "        for x in range(0,4):\n",
    "            row[x]=(float)(row[x])\n",
    "        dataset.append(row)\n",
    "    \n",
    "#Divide the dataset into training and test sets \n",
    "    training_set=[]\n",
    "    test_set=[]\n",
    "\n",
    "    dataset_size=len(dataset)\n",
    "    \n",
    "    for x in range(0,dataset_size):\n",
    "        if x<=(int)(0.67*dataset_size):\n",
    "            training_set.append(dataset[x])\n",
    "                      \n",
    "        elif x>(int)(0.67*dataset_size):\n",
    "            test_set.append(dataset[x])\n",
    "    \n",
    "#Calculate the Euclidean distance between the training and the test sets\n",
    "    \n",
    "    #Creates a list of size same as length of list - test_set\n",
    "    distance_test_set=[[] for Null in range(len(test_set))] \n",
    "\n",
    "    sum=0\n",
    "    for index,item in enumerate(test_set):\n",
    "\n",
    "        for y in training_set:\n",
    "            sum=0\n",
    "            \n",
    "            for i in range(0,4):\n",
    "                sum=sum+pow((item[i]-y[i]),2)  \n",
    "                \n",
    "            sum=pow(sum,0.5)\n",
    "            distance_test_set[index].append((sum,y[4]))\n",
    "\n",
    "#Sort each distance set for each X\n",
    "    for X in distance_test_set:\n",
    "        X.sort()\n",
    "        \n",
    "#Enter the value of K\n",
    "    print(\"Note : The value of K entered should be less than \",len(training_set))\n",
    "    k=(int)(input(\"The value of K = \"))\n",
    "\n",
    "#Determine the majority class from K-Nearest-Neighbours\n",
    "    lll=[[] for Null in range(len(test_set))]\n",
    "    found=0\n",
    "    \n",
    "    for index,X in enumerate(distance_test_set):\n",
    "        for calDistTuple in X[0:k]:\n",
    "               \n",
    "                for l in lll[index]:\n",
    "                    if calDistTuple[1]==l[1]:\n",
    "                        l[0]=l[0]+1\n",
    "                        found=1\n",
    "                        break\n",
    "                if found!=1:\n",
    "                    lll[index].append([1,calDistTuple[1]])\n",
    "                found=0\n",
    "    \n",
    "    for ll in lll:\n",
    "        ll.sort(key=lambda x: x[0],reverse=True)\n",
    "    \n",
    "        \n",
    "#Display the calculated class for each test input\n",
    "    right=0\n",
    "    wrong=0\n",
    "    accuracy=0\n",
    "    for index,x in enumerate(test_set):\n",
    "        \n",
    "        if lll[index][0][1]==test_set[index][4]:\n",
    "            right=right+1\n",
    "        elif lll[index][0][1]!=test_set[index][4]:\n",
    "            wrong=wrong+1\n",
    "            \n",
    "    accuracy=right/len(test_set)*100\n",
    "    print(\"\\n\\n\\n----------ACCURACY RESULTS OF THE MODEL----------\\n\")\n",
    "    print(\"Accuracy of the model is : \\t\\t\",accuracy,\"%\")\n",
    "    print(\"Number of correct predictions made : \\t\",right)\n",
    "    print(\"Number of incorrect predictions made : \\t\",wrong)\n",
    "    \n",
    "    \n",
    "#Plot the graph for K vs accuracy & study the variaton of accuracy with change in K\n",
    "    \n",
    "    kval=[]\n",
    "    accval=[]\n",
    "    jjj=[[] for Null in range(len(test_set))]\n",
    "    \n",
    "    for k in range(1,len(training_set)):\n",
    "    #Determine the majority class from K-Nearest-Neighbours\n",
    "        for x in jjj:\n",
    "            del x[:]\n",
    "        found=0\n",
    "        \n",
    "        for index,X in enumerate(distance_test_set):\n",
    "            for calDistTuple in X[0:k]:\n",
    "                    \n",
    "                    for i in jjj[index]:\n",
    "                        if calDistTuple[1]==i[1]:\n",
    "                            i[0]=i[0]+1\n",
    "                            found=1\n",
    "                            break\n",
    "                            \n",
    "                    if found!=1:\n",
    "                        jjj[index].append([1,calDistTuple[1]])\n",
    "                    found=0\n",
    "               \n",
    "    \n",
    "        for jj in jjj:\n",
    "            jj.sort(key=lambda x: x[0],reverse=True)\n",
    "        \n",
    "        #Display the calculated class for each test input\n",
    "        right=0\n",
    "        wrong=0\n",
    "        accuracy=0\n",
    "        for index,x in enumerate(test_set):\n",
    "        \n",
    "            if jjj[index][0][1]==test_set[index][4]:\n",
    "                right=right+1\n",
    "            elif jjj[index][0][1]!=test_set[index][4]:\n",
    "                wrong=wrong+1\n",
    "        accuracy=right/len(test_set)*100\n",
    "        \n",
    "        \n",
    "        kval.append(k)\n",
    "        accval.append(accuracy)\n",
    "        \n",
    "    fig = plt.figure()\n",
    "    fig.suptitle('K vs Accuracy of the model', fontsize=20)    \n",
    "    plt.plot(kval,accval, color='red', linewidth=1)\n",
    "    plt.xlabel('K values', fontsize=13)\n",
    "    plt.ylabel('Accuracy', fontsize=13)\n",
    "    plt.xlim(0,len(kval))\n",
    "    plt.show()\n",
    "    "
   ]
  },
  {
   "cell_type": "code",
   "execution_count": 144,
   "metadata": {
    "tags": [
     "Rough"
    ]
   },
   "outputs": [
    {
     "name": "stdout",
     "output_type": "stream",
     "text": [
      "(1, 'a')\n",
      "(2, 'b')\n",
      "(2, 'a')\n",
      "(4, 'a')\n"
     ]
    }
   ],
   "source": [
    "z=[[(1,'a'),(2,'b'),(3,'c')],[(2,'a'),(4,'a'),(44,'a')]]\n",
    "\n",
    "for y in z:\n",
    "    for t in y[0:2]:\n",
    "        print(t)"
   ]
  },
  {
   "cell_type": "code",
   "execution_count": 72,
   "metadata": {
    "tags": [
     "Rough"
    ]
   },
   "outputs": [
    {
     "name": "stdout",
     "output_type": "stream",
     "text": [
      "3 [[], [], []]\n",
      "[[(2, 'k'), (3, 'j')], [(2, 'k'), (3, 'j')], [(2, 'k'), (3, 'j')]]\n"
     ]
    }
   ],
   "source": [
    "l=[[]]*3\n",
    "#for x in range(0,4):\n",
    " #   l.append([(1,\"h\")])\n",
    "print(len(l),l)\n",
    "l[0].append((2,'k'))\n",
    "l[2].append((3,'j'))\n",
    "print(l)"
   ]
  },
  {
   "cell_type": "code",
   "execution_count": null,
   "metadata": {
    "tags": [
     "Rough"
    ]
   },
   "outputs": [],
   "source": [
    "#Divide the dataset into training and test sets \n",
    "    training_set=[]\n",
    "    test_set=[]\n",
    "\n",
    "    dataset_size=151\n",
    "    print((int)(0.67*dataset_size))\n",
    "    for x in range(0,dataset_size+1):\n",
    "        if x<=(int)(0.67*dataset_size):\n",
    "            training_set.append(dataset[x])\n",
    "            #print(x,\"training\",dataset[x][4])\n",
    "            \n",
    "        elif x>(int)(0.67*dataset_size):\n",
    "            test_set.append(dataset[x])\n",
    "            #print(x,\"test\",dataset[x][4])\n",
    "    \n",
    "#Calculate the Euclidean distance between the training and the test sets\n",
    "    distance_test_set=[[]]*len(test_set)\n",
    "    sum=0\n",
    "    #print(training_set,\"\\n\\n\\n\\n ##########\\n\\n\\n\\n\",test_set)\n",
    "    #print(len(training_set),len(test_set))\n",
    "    for index,item in enumerate(test_set):\n",
    "        for y in training_set:\n",
    "            sum=0\n",
    "            for i in range(0,4):\n",
    "                sum=sum+pow((item[i]-y[i]),2)\n",
    "                #print(sum)\n",
    "            sum=pow(sum,0.5)\n",
    "            #print(sum)\n",
    "            distance_test_set[index].append((sum,y[4]))\n",
    "            \n",
    "    \n",
    "    f=open('distance.data','w')\n",
    "    for x in distance_test_set:\n",
    "        f.write('\\n'.join('%s %s' % y for y in x))\n",
    "        \n",
    "        \n",
    "        l1=[[2,3,'a'],[2,4,'ab'],[3,5,'a']]\n",
    "    l2=[[3,4,'b'],[3,3,'b'],[2,2,'a'],[1,2,'a']]\n",
    "    h = [[] for Null in range(3)]\n",
    "    ctr=0\n",
    "    for index,item in enumerate(l1):\n",
    "        \n",
    "        for y in l2:\n",
    "            sum=0\n",
    "            \n",
    "            for i in range(0,2):\n",
    "                \n",
    "                sum=sum+pow((item[i]-y[i]),2)  \n",
    "           \n",
    "            sum=pow(sum,0.5)\n",
    "            h[index].append((sum,y[2]))\n",
    "            \n",
    "    print(len(h[0]),len(h))\n",
    "    "
   ]
  },
  {
   "cell_type": "code",
   "execution_count": null,
   "metadata": {
    "tags": [
     "Rough"
    ]
   },
   "outputs": [],
   "source": [
    "    f=open('distance.data','w')\n",
    "    for x in distance_test_set:\n",
    "        f.write('\\n'.join('%s %s' % y for y in x))"
   ]
  },
  {
   "cell_type": "code",
   "execution_count": 53,
   "metadata": {
    "tags": [
     "Rough",
     "Graph",
     "Code",
     "Snippet"
    ]
   },
   "outputs": [
    {
     "data": {
      "image/png": "[encoded data removed]",
      "text/plain": [
       "<Figure size 432x288 with 1 Axes>"
      ]
     },
     "metadata": {
      "needs_background": "light"
     },
     "output_type": "display_data"
    }
   ],
   "source": [
    "import matplotlib.pyplot as plt\n",
    "xx=[0,2,3,10]\n",
    "yy=[0.6,0.5,0.1,4.0]\n",
    "plt.plot(xx,yy, color='lightblue', linewidth=1)\n",
    "#plt.scatter([0.3, 3.8, 1.2, 2.5], [11, 25, 9, 26], color='darkgreen', marker='^')\n",
    "plt.xlim(0, 10)\n",
    "plt.show()"
   ]
  }
 ],
 "metadata": {
  "celltoolbar": "Tags",
  "kernelspec": {
   "display_name": "Python 2",
   "language": "python",
   "name": "python2"
  },
  "language_info": {
   "codemirror_mode": {
    "name": "ipython",
    "version": 3
   },
   "file_extension": ".py",
   "mimetype": "text/x-python",
   "name": "python",
   "nbconvert_exporter": "python",
   "pygments_lexer": "ipython3",
   "version": "3.7.1"
  }
 },
 "nbformat": 4,
 "nbformat_minor": 2
}
