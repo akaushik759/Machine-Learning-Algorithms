{
 "cells": [
  {
   "cell_type": "code",
   "execution_count": 210,
   "metadata": {},
   "outputs": [
    {
     "name": "stdout",
     "output_type": "stream",
     "text": [
      "Note : The value of K entered should be less than  101\n",
      "The value of K = 10\n",
      "\n",
      "\n",
      "\n",
      "----------ACCURACY RESULTS OF THE MODEL----------\n",
      "\n",
      "Accuracy of the model is : \t\t 91.83673469387756 %\n",
      "Number of correct predictions made : \t 45\n",
      "Number of incorrect predictions made : \t 4\n"
     ]
    }
   ],
   "source": [
    "import csv\n",
    "\n",
    "#Read the dataset from a csv file\n",
    "with open('iris.data','r') as csvfile:\n",
    "    lines=csv.reader(csvfile)\n",
    "    \n",
    "    dataset=[]\n",
    "    for row in lines:\n",
    "        for x in range(0,4):\n",
    "            row[x]=(float)(row[x])\n",
    "        dataset.append(row)\n",
    "            \n",
    "    #print(len(dataset))\n",
    "    #print(dataset)\n",
    "    \n",
    "#Divide the dataset into training and test sets \n",
    "    training_set=[]\n",
    "    test_set=[]\n",
    "\n",
    "    dataset_size=len(dataset)\n",
    "    #print((int)(0.67*dataset_size))\n",
    "    for x in range(0,dataset_size):\n",
    "        if x<=(int)(0.67*dataset_size):\n",
    "            training_set.append(dataset[x])\n",
    "            #print(x,\"training\",dataset[x][4])\n",
    "            \n",
    "        elif x>(int)(0.67*dataset_size):\n",
    "            test_set.append(dataset[x])\n",
    "            #print(x,\"test\",dataset[x][4])\n",
    "    \n",
    "#Calculate the Euclidean distance between the training and the test sets\n",
    "    distance_test_set=[[] for Null in range(len(test_set))] #Creates a list of size same as length of list - test_set\n",
    "\n",
    "    sum=0\n",
    "    for index,item in enumerate(test_set):\n",
    "\n",
    "        for y in training_set:\n",
    "            sum=0\n",
    "            \n",
    "            for i in range(0,4):\n",
    "                sum=sum+pow((item[i]-y[i]),2)  \n",
    "                \n",
    "            sum=pow(sum,0.5)\n",
    "            distance_test_set[index].append((sum,y[4]))\n",
    "\n",
    "            \n",
    "    #print(len(test_set),len(training_set),len(distance_test_set),len(distance_test_set[1]))\n",
    "    #print(len(distance_test_set),len(distance_test_set[0]),distance_test_set[0]==distance_test_set[11],len(distance_test_set)*len(distance_test_set[0]))\n",
    "    \n",
    "#Sort each distance set for each X\n",
    "    for X in distance_test_set:\n",
    "        X.sort()\n",
    "        \n",
    "#Enter the value of K\n",
    "    print(\"Note : The value of K entered should be less than \",len(training_set))\n",
    "    k=(int)(input(\"The value of K = \"))\n",
    "\n",
    "#Determine the majority class from K-Nearest-Neighbours\n",
    "    lll=[[] for Null in range(len(test_set))]\n",
    "    found=0\n",
    "    \n",
    "    for index,X in enumerate(distance_test_set):\n",
    "        for calDistTuple in X[0:k]:\n",
    "                for l in lll[index]:\n",
    "                    if calDistTuple[1]==l[1]:\n",
    "                        l[0]=l[0]+1\n",
    "                        found=1\n",
    "                        break\n",
    "                if found!=1:\n",
    "                    lll[index].append([1,calDistTuple[1]])\n",
    "                found=0\n",
    "    \n",
    "    for ll in lll:\n",
    "        ll.sort(key=lambda x: x[0],reverse=True)\n",
    "        \n",
    "#Display the calculated class for each test input\n",
    "    right=0\n",
    "    wrong=0\n",
    "    accuracy=0\n",
    "    for index,x in enumerate(test_set):\n",
    "        #print(\"Test Case \",index+1,\" : \",lll[index][0][1],lll[index][0][1]==test_set[index][4])\n",
    "        if lll[index][0][1]==test_set[index][4]:\n",
    "            right=right+1\n",
    "        elif lll[index][0][1]!=test_set[index][4]:\n",
    "            wrong=wrong+1\n",
    "            \n",
    "    accuracy=right/len(test_set)*100\n",
    "    print(\"\\n\\n\\n----------ACCURACY RESULTS OF THE MODEL----------\\n\")\n",
    "    print(\"Accuracy of the model is : \\t\\t\",accuracy,\"%\")\n",
    "    print(\"Number of correct predictions made : \\t\",right)\n",
    "    print(\"Number of incorrect predictions made : \\t\",wrong)\n",
    "    "
   ]
  },
  {
   "cell_type": "code",
   "execution_count": 142,
   "metadata": {},
   "outputs": [
    {
     "name": "stdout",
     "output_type": "stream",
     "text": [
      "1\n",
      "2\n"
     ]
    }
   ],
   "source": [
    "l=[[1,2,3],[2,2,4],[4,5,3]]\n",
    "p=[[[1,'a'],[2,'a'],[4,'v']]]\n",
    "ctr=1\n",
    "\n",
    "for x in p:\n",
    "    for y in x:\n",
    "        if 'a' in y:\n",
    "            print(y[0])"
   ]
  },
  {
   "cell_type": "code",
   "execution_count": 144,
   "metadata": {},
   "outputs": [
    {
     "name": "stdout",
     "output_type": "stream",
     "text": [
      "(1, 'a')\n",
      "(2, 'b')\n",
      "(2, 'a')\n",
      "(4, 'a')\n"
     ]
    }
   ],
   "source": [
    "z=[[(1,'a'),(2,'b'),(3,'c')],[(2,'a'),(4,'a'),(44,'a')]]\n",
    "\n",
    "for y in z:\n",
    "    for t in y[0:2]:\n",
    "        print(t)"
   ]
  },
  {
   "cell_type": "code",
   "execution_count": 72,
   "metadata": {},
   "outputs": [
    {
     "name": "stdout",
     "output_type": "stream",
     "text": [
      "3 [[], [], []]\n",
      "[[(2, 'k'), (3, 'j')], [(2, 'k'), (3, 'j')], [(2, 'k'), (3, 'j')]]\n"
     ]
    }
   ],
   "source": [
    "l=[[]]*3\n",
    "#for x in range(0,4):\n",
    " #   l.append([(1,\"h\")])\n",
    "print(len(l),l)\n",
    "l[0].append((2,'k'))\n",
    "l[2].append((3,'j'))\n",
    "print(l)"
   ]
  },
  {
   "cell_type": "code",
   "execution_count": null,
   "metadata": {},
   "outputs": [],
   "source": [
    "#Divide the dataset into training and test sets \n",
    "    training_set=[]\n",
    "    test_set=[]\n",
    "\n",
    "    dataset_size=151\n",
    "    print((int)(0.67*dataset_size))\n",
    "    for x in range(0,dataset_size+1):\n",
    "        if x<=(int)(0.67*dataset_size):\n",
    "            training_set.append(dataset[x])\n",
    "            #print(x,\"training\",dataset[x][4])\n",
    "            \n",
    "        elif x>(int)(0.67*dataset_size):\n",
    "            test_set.append(dataset[x])\n",
    "            #print(x,\"test\",dataset[x][4])\n",
    "    \n",
    "#Calculate the Euclidean distance between the training and the test sets\n",
    "    distance_test_set=[[]]*len(test_set)\n",
    "    sum=0\n",
    "    #print(training_set,\"\\n\\n\\n\\n ##########\\n\\n\\n\\n\",test_set)\n",
    "    #print(len(training_set),len(test_set))\n",
    "    for index,item in enumerate(test_set):\n",
    "        for y in training_set:\n",
    "            sum=0\n",
    "            for i in range(0,4):\n",
    "                sum=sum+pow((item[i]-y[i]),2)\n",
    "                #print(sum)\n",
    "            sum=pow(sum,0.5)\n",
    "            #print(sum)\n",
    "            distance_test_set[index].append((sum,y[4]))\n",
    "            \n",
    "    \n",
    "    f=open('distance.data','w')\n",
    "    for x in distance_test_set:\n",
    "        f.write('\\n'.join('%s %s' % y for y in x))\n",
    "        \n",
    "        \n",
    "        l1=[[2,3,'a'],[2,4,'ab'],[3,5,'a']]\n",
    "    l2=[[3,4,'b'],[3,3,'b'],[2,2,'a'],[1,2,'a']]\n",
    "    h = [[] for Null in range(3)]\n",
    "    ctr=0\n",
    "    for index,item in enumerate(l1):\n",
    "        \n",
    "        for y in l2:\n",
    "            sum=0\n",
    "            \n",
    "            for i in range(0,2):\n",
    "                \n",
    "                sum=sum+pow((item[i]-y[i]),2)  \n",
    "           \n",
    "            sum=pow(sum,0.5)\n",
    "            h[index].append((sum,y[2]))\n",
    "            \n",
    "    print(len(h[0]),len(h))\n",
    "    "
   ]
  },
  {
   "cell_type": "code",
   "execution_count": null,
   "metadata": {},
   "outputs": [],
   "source": [
    "    f=open('distance.data','w')\n",
    "    for x in distance_test_set:\n",
    "        f.write('\\n'.join('%s %s' % y for y in x))"
   ]
  }
 ],
 "metadata": {
  "celltoolbar": "Raw Cell Format",
  "kernelspec": {
   "display_name": "Python 2",
   "language": "python",
   "name": "python2"
  },
  "language_info": {
   "codemirror_mode": {
    "name": "ipython",
    "version": 3
   },
   "file_extension": ".py",
   "mimetype": "text/x-python",
   "name": "python",
   "nbconvert_exporter": "python",
   "pygments_lexer": "ipython3",
   "version": "3.7.1"
  }
 },
 "nbformat": 4,
 "nbformat_minor": 2
}
