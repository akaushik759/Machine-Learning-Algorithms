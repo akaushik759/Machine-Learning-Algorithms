{
 "cells": [
  {
   "cell_type": "code",
   "execution_count": 95,
   "metadata": {},
   "outputs": [],
   "source": [
    "import csv\n",
    "\n",
    "#Read the dataset from a csv file\n",
    "with open('iris.data','r') as csvfile:\n",
    "    lines=csv.reader(csvfile)\n",
    "    \n",
    "    dataset=[]\n",
    "    for row in lines:\n",
    "        for x in range(0,4):\n",
    "            row[x]=(float)(row[x])\n",
    "            dataset.append(row)\n",
    "    \n",
    "#Divide the dataset into training and test sets \n",
    "    training_set=[]\n",
    "    test_set=[]\n",
    "    \n",
    "    dataset_size=151\n",
    "    for x in range(0,dataset_size+1):\n",
    "        if x<=0.67*dataset_size:\n",
    "            training_set.append(dataset[x])\n",
    "            \n",
    "        elif x>0.67*dataset_size:\n",
    "            test_set.append(dataset[x])\n",
    "    \n",
    "#Calculate the Euclidean distance between the training and the test sets\n",
    "    distance_test_set=[[]]*len(test_set)\n",
    "    sum=0\n",
    "    for index,item in enumerate(test_set):\n",
    "        for y in training_set:\n",
    "            for i in range(0,4):\n",
    "                sum=sum+pow((item[i]-y[i]),2)\n",
    "                #print(sum)\n",
    "            sum=pow(sum,0.5)\n",
    "            #print(sum)\n",
    "            distance_test_set[index].append((sum,y[4]))\n",
    "            \n",
    "    \n",
    "    f=open('distance.data','a')\n",
    "    for x in distance_test_set:\n",
    "        f.write('\\n'.join('%s %s' % y for y in x))\n",
    "        \n",
    "    "
   ]
  },
  {
   "cell_type": "code",
   "execution_count": 46,
   "metadata": {},
   "outputs": [
    {
     "name": "stdout",
     "output_type": "stream",
     "text": [
      "0 [1, 2, 3]\n",
      "1 [2, 2, 4]\n",
      "2 [4, 5, 3]\n"
     ]
    }
   ],
   "source": [
    "l=[[1,2,3],[2,2,4],[4,5,3]]\n",
    "p=[]\n",
    "\n",
    "for index,item in enumerate(l):\n",
    "    print(index,item)"
   ]
  },
  {
   "cell_type": "code",
   "execution_count": 40,
   "metadata": {},
   "outputs": [
    {
     "name": "stdout",
     "output_type": "stream",
     "text": [
      "1.4142135623730951\n"
     ]
    }
   ],
   "source": [
    "print(pow(2,1/2))"
   ]
  },
  {
   "cell_type": "code",
   "execution_count": 72,
   "metadata": {},
   "outputs": [
    {
     "name": "stdout",
     "output_type": "stream",
     "text": [
      "3 [[], [], []]\n",
      "[[(2, 'k'), (3, 'j')], [(2, 'k'), (3, 'j')], [(2, 'k'), (3, 'j')]]\n"
     ]
    }
   ],
   "source": [
    "l=[[]]*3\n",
    "#for x in range(0,4):\n",
    " #   l.append([(1,\"h\")])\n",
    "print(len(l),l)\n",
    "l[0].append((2,'k'))\n",
    "l[2].append((3,'j'))\n",
    "print(l)"
   ]
  },
  {
   "cell_type": "code",
   "execution_count": null,
   "metadata": {},
   "outputs": [],
   "source": []
  }
 ],
 "metadata": {
  "kernelspec": {
   "display_name": "Python 2",
   "language": "python",
   "name": "python2"
  },
  "language_info": {
   "codemirror_mode": {
    "name": "ipython",
    "version": 3
   },
   "file_extension": ".py",
   "mimetype": "text/x-python",
   "name": "python",
   "nbconvert_exporter": "python",
   "pygments_lexer": "ipython3",
   "version": "3.7.1"
  }
 },
 "nbformat": 4,
 "nbformat_minor": 2
}
