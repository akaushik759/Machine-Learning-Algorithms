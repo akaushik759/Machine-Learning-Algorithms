{
 "cells": [
  {
   "cell_type": "code",
   "execution_count": 25,
   "metadata": {
    "tags": [
     "Working",
     "Code"
    ]
   },
   "outputs": [
    {
     "name": "stdout",
     "output_type": "stream",
     "text": [
      "Note : The value of K entered should be less than  687\n",
      "The value of K = 10\n",
      "\n",
      "\n",
      "\n",
      "----------ACCURACY RESULTS OF THE MODEL----------\n",
      "\n",
      "Average difference in predicted value\t 3.6036706231454008\n"
     ]
    },
    {
     "data": {
      "image/png": "[encoded data removed]",
      "text/plain": [
       "<Figure size 432x288 with 1 Axes>"
      ]
     },
     "metadata": {
      "needs_background": "light"
     },
     "output_type": "display_data"
    }
   ],
   "source": [
    "import csv\n",
    "import matplotlib.pyplot as plt\n",
    "\n",
    "#Read the dataset from a csv file\n",
    "with open('ccppfinal.data','r') as csvfile:\n",
    "    lines=csv.reader(csvfile)\n",
    "    \n",
    "    dataset=[]\n",
    "    for row in lines:\n",
    "        for x in range(0,5):\n",
    "            row[x]=(float)(row[x])\n",
    "        dataset.append(row)\n",
    "    \n",
    "#Divide the dataset into training and test sets \n",
    "    training_set=[]\n",
    "    test_set=[]\n",
    "\n",
    "    dataset_size=len(dataset)\n",
    "    \n",
    "    for x in range(0,dataset_size):\n",
    "        if x<=(int)(0.67*dataset_size):\n",
    "            training_set.append(dataset[x])\n",
    "                      \n",
    "        elif x>(int)(0.67*dataset_size):\n",
    "            test_set.append(dataset[x])\n",
    "    \n",
    "#Calculate the Euclidean distance between the training and the test sets\n",
    "    \n",
    "    #Creates a list of size same as length of list - test_set\n",
    "    distance_test_set=[[] for Null in range(len(test_set))] \n",
    "\n",
    "    sum=0\n",
    "    for index,item in enumerate(test_set):\n",
    "\n",
    "        for y in training_set:\n",
    "            sum=0\n",
    "            \n",
    "            for i in range(0,4):\n",
    "                sum=sum+pow((item[i]-y[i]),2)  \n",
    "                \n",
    "            sum=pow(sum,0.5)\n",
    "            distance_test_set[index].append((sum,y[4]))\n",
    "\n",
    "#Sort each distance set for each X\n",
    "    for X in distance_test_set:\n",
    "        X.sort()\n",
    "        \n",
    "#Enter the value of K\n",
    "    print(\"Note : The value of K entered should be less than \",len(training_set))\n",
    "    k=(int)(input(\"The value of K = \"))\n",
    "\n",
    "#Determine the average value of the output attribute for each test input\n",
    "    predicted_val=[]\n",
    "    sum=0\n",
    "    for X in distance_test_set:\n",
    "        sum=0\n",
    "        for calDistTuple in X[0:k]:\n",
    "               sum=sum+calDistTuple[1]\n",
    "        avg=sum/k\n",
    "        predicted_val.append(avg)\n",
    "        \n",
    "#Display the calculated class for each test input\n",
    "    sum_diff=0\n",
    "    avg_diff=0\n",
    "    accuracy=0\n",
    "    for index,x in enumerate(test_set):\n",
    "        \n",
    "        sum_diff=sum_diff+abs(predicted_val[index]-test_set[index][4])\n",
    "        \n",
    "    avg_diff=sum_diff/len(test_set)\n",
    "    print(\"\\n\\n\\n----------ACCURACY RESULTS OF THE MODEL----------\\n\")\n",
    "    print(\"Average difference in predicted value\\t\",avg_diff)\n",
    "    \n",
    "#Determine the average value of the output attribute for each test input\n",
    "    predicted_val=[]\n",
    "    kval=[]\n",
    "    diffval=[]\n",
    "    sum=0\n",
    "    for k in range(1,len(training_set)):\n",
    "        del predicted_val[:]\n",
    "        \n",
    "        for X in distance_test_set:\n",
    "            sum=0\n",
    "            for calDistTuple in X[0:k]:\n",
    "                sum=sum+calDistTuple[1]\n",
    "            avg=sum/k\n",
    "            predicted_val.append(avg)\n",
    "        \n",
    "#Display the calculated class for each test input\n",
    "        sum_diff=0\n",
    "        avg_diff=0\n",
    "        accuracy=0\n",
    "        for index,x in enumerate(test_set):\n",
    "        \n",
    "            sum_diff=sum_diff+abs(predicted_val[index]-test_set[index][4])\n",
    "        \n",
    "        avg_diff=sum_diff/len(test_set)\n",
    "        \n",
    "        kval.append(k)\n",
    "        diffval.append(avg_diff)\n",
    "    \n",
    "    fig = plt.figure()\n",
    "    plt.plot(kval,diffval, color='red', linewidth=1)\n",
    "    fig.suptitle('K vs Difference in predicted & actual output', fontsize=20)\n",
    "    plt.xlabel('K values', fontsize=13)\n",
    "    plt.ylabel('Difference', fontsize=13)\n",
    "    plt.xlim(0,len(kval))\n",
    "    plt.show()"
   ]
  },
  {
   "cell_type": "code",
   "execution_count": 4,
   "metadata": {
    "tags": [
     "Rough"
    ]
   },
   "outputs": [],
   "source": [
    "import csv\n",
    "\n",
    "with open('ccpp.data') as fin, open('ccppnew.data', 'w') as fout:\n",
    "    for line in fin:\n",
    "        fout.write(line.replace('\\t', ','))"
   ]
  },
  {
   "cell_type": "code",
   "execution_count": null,
   "metadata": {},
   "outputs": [],
   "source": []
  }
 ],
 "metadata": {
  "celltoolbar": "Tags",
  "kernelspec": {
   "display_name": "Python 2",
   "language": "python",
   "name": "python2"
  },
  "language_info": {
   "codemirror_mode": {
    "name": "ipython",
    "version": 3
   },
   "file_extension": ".py",
   "mimetype": "text/x-python",
   "name": "python",
   "nbconvert_exporter": "python",
   "pygments_lexer": "ipython3",
   "version": "3.7.1"
  }
 },
 "nbformat": 4,
 "nbformat_minor": 2
}
